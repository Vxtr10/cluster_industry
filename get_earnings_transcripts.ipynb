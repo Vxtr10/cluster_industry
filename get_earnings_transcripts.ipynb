{
 "cells": [
  {
   "cell_type": "code",
   "execution_count": 3,
   "metadata": {},
   "outputs": [],
   "source": [
    "sp500_tickers = [\n",
    "    \"A\", \"AAL\", \"AAP\", \"AAPL\", \"ABBV\", \"ABC\", \"ABMD\", \"ABT\", \"ACN\", \"ADBE\",\n",
    "    \"ADI\", \"ADM\", \"ADP\", \"ADSK\", \"AEE\", \"AEP\", \"AES\", \"AFL\", \"AIG\", \"AIZ\",\n",
    "    \"AJG\", \"AKAM\", \"ALB\", \"ALGN\", \"ALK\", \"ALL\", \"ALLE\", \"AMAT\", \"AMCR\", \"AMD\",\n",
    "    \"AME\", \"AMGN\", \"AMP\", \"AMT\", \"AMZN\", \"ANET\", \"ANSS\", \"ANTM\", \"AON\", \"AOS\",\n",
    "    \"APA\", \"APD\", \"APH\", \"APTV\", \"ARE\", \"ATO\", \"ATVI\", \"AVB\", \"AVGO\", \"AVY\",\n",
    "    \"AWK\", \"AXP\", \"AZO\", \"BA\", \"BAC\", \"BALL\", \"BAX\", \"BBWI\", \"BBY\", \"BDX\",\n",
    "    \"BEN\", \"BF.B\", \"BIIB\", \"BIO\", \"BK\", \"BKNG\", \"BKR\", \"BLK\", \"BLL\", \"BMY\",\n",
    "    \"BR\", \"BRK.B\", \"BRO\", \"BSX\", \"BWA\", \"BXP\", \"C\", \"CAG\", \"CAH\", \"CARR\",\n",
    "    \"CAT\", \"CB\", \"CBOE\", \"CBRE\", \"CCI\", \"CCL\", \"CDAY\", \"CDNS\", \"CDW\", \"CE\",\n",
    "    \"CEG\", \"CF\", \"CFG\", \"CHD\", \"CHRW\", \"CHTR\", \"CI\", \"CINF\", \"CL\", \"CLX\",\n",
    "    \"CMA\", \"CMCSA\", \"CME\", \"CMG\", \"CMI\", \"CMS\", \"CNC\", \"CNP\", \"COF\", \"COO\",\n",
    "    \"COP\", \"COST\", \"CPB\", \"CPRT\", \"CRL\", \"CRM\", \"CSCO\", \"CSX\", \"CTAS\", \"CTLT\",\n",
    "    \"CTRA\", \"CTSH\", \"CTVA\", \"CTXS\", \"CVS\", \"CVX\", \"CZR\", \"D\", \"DAL\", \"DD\",\n",
    "    \"DE\", \"DFS\", \"DG\", \"DGX\", \"DHI\", \"DHR\", \"DIS\", \"DISCA\", \"DISH\", \"DLR\",\n",
    "    \"DLTR\", \"DOV\", \"DOW\", \"DPZ\", \"DRE\", \"DRI\", \"DTE\", \"DUK\", \"DVA\", \"DVN\",\n",
    "    \"DXC\", \"DXCM\", \"EA\", \"EBAY\", \"ECL\", \"ED\", \"EFX\", \"EIX\", \"EL\", \"ELV\", \"EMN\",\n",
    "    \"EMR\", \"ENPH\", \"EOG\", \"EPAM\", \"EQIX\", \"EQR\", \"ES\", \"ESS\", \"ETN\", \"ETR\",\n",
    "    \"ETSY\", \"EVRG\", \"EW\", \"EXC\", \"EXPD\", \"EXPE\", \"EXR\", \"F\", \"FANG\", \"FAST\",\n",
    "    \"FBHS\", \"FCX\", \"FDS\", \"FDX\", \"FE\", \"FFIV\", \"FIS\", \"FISV\", \"FITB\", \"FLT\",\n",
    "    \"FMC\", \"FOX\", \"FOXA\", \"FRC\", \"FRT\", \"FTNT\", \"FTV\", \"GD\", \"GE\", \"GILD\",\n",
    "    \"GIS\", \"GL\", \"GLW\", \"GM\", \"GNRC\", \"GOOG\", \"GOOGL\", \"GPC\", \"GPN\", \"GPS\",\n",
    "    \"GRMN\", \"GS\", \"GWW\", \"HAL\", \"HAS\", \"HBAN\", \"HCA\", \"HD\", \"HES\", \"HIG\",\n",
    "    \"HII\", \"HLF\", \"HLT\", \"HOLX\", \"HON\", \"HPE\", \"HPQ\", \"HRL\", \"HSIC\", \"HST\",\n",
    "    \"HSY\", \"HUM\", \"HWM\", \"IBM\", \"ICE\", \"IDXX\", \"IFF\", \"IHRT\", \"ILMN\", \"INCY\",\n",
    "    \"INFO\", \"INTC\", \"INTU\", \"IP\", \"IPG\", \"IPGP\", \"IQV\", \"IR\", \"IRM\", \"ISRG\",\n",
    "    \"IT\", \"ITW\", \"IVZ\", \"J\", \"JBHT\", \"JCI\", \"JKHY\", \"JNJ\", \"JNPR\", \"JPM\",\n",
    "    \"K\", \"KEY\", \"KEYS\", \"KHC\", \"KIM\", \"KLAC\", \"KMB\", \"KMI\", \"KMX\", \"KO\",\n",
    "    \"KR\", \"L\", \"LDOS\", \"LEA\", \"LEG\", \"LEN\", \"LH\", \"LHX\", \"LIN\", \"LKQ\", \"LLY\",\n",
    "    \"LMT\", \"LNC\", \"LNT\", \"LOW\", \"LRCX\", \"LUMN\", \"LUV\", \"LVS\", \"LW\", \"LYB\",\n",
    "    \"LYV\", \"MA\", \"MAA\", \"MAR\", \"MAS\", \"MCD\", \"MCK\", \"MCO\", \"MDLZ\", \"MDT\",\n",
    "    \"MET\", \"MGM\", \"MHK\", \"MKC\", \"MKTX\", \"MLM\", \"MMC\", \"MMM\", \"MNST\", \"MO\",\n",
    "    \"MOH\", \"MOS\", \"MPC\", \"MPWR\", \"MRK\", \"MRNA\", \"MRO\", \"MS\", \"MSCI\", \"MSFT\",\n",
    "    \"MSI\", \"MTB\", \"MTD\", \"MU\", \"NCLH\", \"NDAQ\", \"NEE\", \"NEM\", \"NFLX\", \"NI\",\n",
    "    \"NKE\", \"NLOK\", \"NLSN\", \"NOC\", \"NOV\", \"NOW\", \"NRG\", \"NSC\", \"NTAP\", \"NTRS\",\n",
    "    \"NUE\", \"NVDA\", \"NVR\", \"NWL\", \"NXPI\", \"O\", \"ODFL\", \"OGN\", \"OKE\", \"OMC\",\n",
    "    \"ORCL\", \"ORLY\", \"OTIS\", \"OXY\", \"PARA\", \"PAYC\", \"PAYX\", \"PBCT\", \"PCAR\",\n",
    "    \"PEAK\", \"PEG\", \"PENN\", \"PEP\", \"PFE\", \"PFG\", \"PG\", \"PGR\", \"PH\", \"PHM\",\n",
    "    \"PKG\", \"PKI\", \"PLD\", \"PM\", \"PNC\", \"PNR\", \"PNW\", \"POOL\", \"PPG\", \"PPL\",\n",
    "    \"PRGO\", \"PRU\", \"PSA\", \"PSX\", \"PTC\", \"PVH\", \"PWR\", \"PXD\", \"PYPL\", \"QCOM\",\n",
    "    \"QRVO\", \"RCL\", \"RE\", \"REG\", \"REGN\", \"RF\", \"RHI\", \"RJF\", \"RL\", \"RMD\",\n",
    "    \"ROK\", \"ROL\", \"ROP\", \"ROST\", \"RSG\", \"RTX\", \"SBAC\", \"SBUX\", \"SCHW\", \"SCI\",\n",
    "    \"SEE\", \"SHW\", \"SIVB\", \"SJM\", \"SLB\", \"SNA\", \"SNPS\", \"SO\", \"SPG\", \"SPGI\",\n",
    "    \"SRE\", \"STE\", \"STT\", \"STX\", \"STZ\", \"SWK\", \"SWKS\", \"SYF\", \"SYK\", \"SYY\",\n",
    "    \"T\", \"TAP\", \"TDG\", \"TDY\", \"TEL\", \"TER\", \"TFC\", \"TFX\", \"TGT\", \"TJX\",\n",
    "    \"TMO\", \"TMUS\", \"TPR\", \"TRMB\", \"TROW\", \"TRV\", \"TSCO\", \"TSLA\", \"TSN\",\n",
    "    \"TT\", \"TTWO\", \"TWTR\", \"TXN\", \"TXT\", \"TYL\", \"UAA\", \"UAL\", \"UDR\", \"UHS\",\n",
    "    \"ULTA\", \"UNH\", \"UNM\", \"UNP\", \"UPS\", \"URI\", \"USB\", \"V\", \"VFC\", \"VLO\",\n",
    "    \"VMC\", \"VNO\", \"VRSK\", \"VRSN\", \"VRTX\", \"VTR\", \"VTRS\", \"VZ\", \"WAB\", \"WAT\",\n",
    "    \"WBA\", \"WBD\", \"WDC\", \"WEC\", \"WELL\", \"WFC\", \"WHR\", \"WM\", \"WMB\", \"WMT\",\n",
    "    \"WRB\", \"WRK\", \"WST\", \"WTW\", \"WY\", \"WYNN\", \"XEL\", \"XOM\", \"XRAY\", \"XYL\",\n",
    "    \"YUM\", \"ZBH\", \"ZBRA\", \"ZION\", \"ZTS\"\n",
    "]"
   ]
  },
  {
   "cell_type": "code",
   "execution_count": 24,
   "metadata": {},
   "outputs": [],
   "source": [
    "import requests\n",
    "from bs4 import BeautifulSoup\n",
    "import json\n",
    "import pandas as pd\n",
    "import time\n",
    "import numpy as np\n",
    "from datetime import datetime\n",
    "import yfinance as yf\n",
    "import os\n",
    "import glob\n",
    "import shutil"
   ]
  },
  {
   "cell_type": "code",
   "execution_count": null,
   "metadata": {},
   "outputs": [],
   "source": []
  },
  {
   "cell_type": "code",
   "execution_count": null,
   "metadata": {},
   "outputs": [],
   "source": []
  }
 ],
 "metadata": {
  "kernelspec": {
   "display_name": "Python 3.9.18 ('new_env')",
   "language": "python",
   "name": "python3"
  },
  "language_info": {
   "codemirror_mode": {
    "name": "ipython",
    "version": 3
   },
   "file_extension": ".py",
   "mimetype": "text/x-python",
   "name": "python",
   "nbconvert_exporter": "python",
   "pygments_lexer": "ipython3",
   "version": "3.9.18"
  },
  "orig_nbformat": 4,
  "vscode": {
   "interpreter": {
    "hash": "31844811a85b8c0f697bc2bdd5b89c41e282bbdd70f8b55f380cb3f2a857a342"
   }
  }
 },
 "nbformat": 4,
 "nbformat_minor": 2
}
