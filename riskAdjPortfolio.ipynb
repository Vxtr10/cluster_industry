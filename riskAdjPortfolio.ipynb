{
 "cells": [
  {
   "cell_type": "markdown",
   "id": "b364e054-7b43-4c1e-b292-489b6ed86997",
   "metadata": {},
   "source": [
    "# Section 1: Define tickers & time range"
   ]
  },
  {
   "cell_type": "code",
   "execution_count": 14,
   "id": "cb403186-29e8-4e58-9b11-d450acb8c021",
   "metadata": {},
   "outputs": [],
   "source": [
    "import yfinance as yf\n",
    "import pandas as pd\n",
    "from datetime import datetime, timedelta\n",
    "import numpy as np\n",
    "from scipy.optimize import minimize"
   ]
  },
  {
   "cell_type": "markdown",
   "id": "fb0ebbae-c8fa-4b47-ad2d-701028a0755c",
   "metadata": {},
   "source": [
    "### Defining the universe of tickers"
   ]
  },
  {
   "cell_type": "code",
   "execution_count": 15,
   "id": "fc4c3129-64cb-4a61-8766-4bebf57b02ce",
   "metadata": {},
   "outputs": [],
   "source": [
    "# fill with yfinance\n",
    "tickers = [\"SPY\",\"AMD\",\"GLD\",\"QQQ\",\"GOOG\"]"
   ]
  },
  {
   "cell_type": "markdown",
   "id": "94ef1c34-0718-484d-9fe7-18d0c6de7d73",
   "metadata": {},
   "source": [
    "### Set the relevant dates"
   ]
  },
  {
   "cell_type": "code",
   "execution_count": 16,
   "id": "f32d4373-1de0-4eb9-8155-e404963df505",
   "metadata": {},
   "outputs": [],
   "source": [
    "end_date = datetime.today()\n",
    "start_date = end_date - timedelta(days = 20*365)"
   ]
  },
  {
   "cell_type": "markdown",
   "id": "b99c8bde-4ee7-4ac1-8034-3d8d38354bbd",
   "metadata": {},
   "source": [
    "# Section 2: Download adjusted close prices"
   ]
  },
  {
   "cell_type": "markdown",
   "id": "c3fee2a9-35b5-4e88-9691-4eb174283b80",
   "metadata": {},
   "source": [
    "### Create an empty DataFrame to store adjusted close prices"
   ]
  },
  {
   "cell_type": "code",
   "execution_count": 17,
   "id": "8df6f1d1-1cd1-457c-b67c-6a3c9f4e21ec",
   "metadata": {},
   "outputs": [],
   "source": [
    "adj_close_df = pd.DataFrame()"
   ]
  },
  {
   "cell_type": "markdown",
   "id": "ff9ab86d-050c-49f5-91f6-7e74b654442a",
   "metadata": {},
   "source": [
    "### Download the close prices for each ticker"
   ]
  },
  {
   "cell_type": "code",
   "execution_count": 18,
   "id": "210ac6ed-d3fa-40b0-8f98-d349651bcc26",
   "metadata": {},
   "outputs": [
    {
     "name": "stdout",
     "output_type": "stream",
     "text": [
      "[*********************100%%**********************]  1 of 1 completed\n",
      "[*********************100%%**********************]  1 of 1 completed\n",
      "[*********************100%%**********************]  1 of 1 completed\n",
      "[*********************100%%**********************]  1 of 1 completed\n",
      "[*********************100%%**********************]  1 of 1 completed\n"
     ]
    }
   ],
   "source": [
    "for ticker in tickers:\n",
    "    data = yf.download(ticker, start = start_date, end = end_date)\n",
    "    adj_close_df[ticker] = data[\"Adj Close\"]  "
   ]
  },
  {
   "cell_type": "markdown",
   "id": "5d6f101d-6502-4d4d-aa3d-e4c1015bac9e",
   "metadata": {},
   "source": [
    "### Display the dataframe"
   ]
  },
  {
   "cell_type": "code",
   "execution_count": 19,
   "id": "b05bc190-2e9f-4862-827b-a8ba03c979c7",
   "metadata": {},
   "outputs": [
    {
     "name": "stdout",
     "output_type": "stream",
     "text": [
      "                   SPY         AMD         GLD         QQQ        GOOG\n",
      "Date                                                                  \n",
      "2004-01-27   78.218903   15.560000         NaN   32.240799         NaN\n",
      "2004-01-28   77.325386   15.300000         NaN   31.694042         NaN\n",
      "2004-01-29   77.400414   14.680000         NaN   31.813652         NaN\n",
      "2004-01-30   77.400414   14.860000         NaN   31.668423         NaN\n",
      "2004-02-02   77.734596   14.640000         NaN   31.582972         NaN\n",
      "...                ...         ...         ...         ...         ...\n",
      "2024-01-12  476.679993  146.559998  189.710007  409.559998  144.240005\n",
      "2024-01-16  474.929993  158.740005  187.910004  409.519989  144.080002\n",
      "2024-01-17  472.290009  160.169998  185.839996  407.209991  142.889999\n",
      "2024-01-18  476.489990  162.669998  187.369995  412.989990  144.990005\n",
      "2024-01-19  482.429993  174.229996  187.929993  421.179993  147.970001\n",
      "\n",
      "[5030 rows x 5 columns]\n"
     ]
    }
   ],
   "source": [
    "print (adj_close_df)"
   ]
  },
  {
   "cell_type": "markdown",
   "id": "b4ee5884-95a5-4736-99ea-61d5b761f0cf",
   "metadata": {},
   "source": [
    "# Section 3: Calculate lognormal results"
   ]
  },
  {
   "cell_type": "markdown",
   "id": "3e4f03f5-45a0-48f4-bc90-e53d64f86300",
   "metadata": {},
   "source": [
    "### Calculate the daily log results for each ticker"
   ]
  },
  {
   "cell_type": "code",
   "execution_count": 20,
   "id": "0f27476a-98ef-4f4e-bf36-5f2ed93e1d5d",
   "metadata": {},
   "outputs": [
    {
     "name": "stdout",
     "output_type": "stream",
     "text": [
      "                 SPY       AMD       GLD       QQQ      GOOG\n",
      "Date                                                        \n",
      "2004-01-27       NaN       NaN       NaN       NaN       NaN\n",
      "2004-01-28 -0.002635 -0.006139       NaN -0.004925       NaN\n",
      "2004-01-29  0.000223 -0.015165       NaN  0.001090       NaN\n",
      "2004-01-30  0.000000  0.004536       NaN -0.001322       NaN\n",
      "2004-02-02  0.000991 -0.005527       NaN -0.000782       NaN\n",
      "...              ...       ...       ...       ...       ...\n",
      "2024-01-12  0.000112 -0.001984  0.001862  0.000085  0.000797\n",
      "2024-01-16 -0.000596  0.016007 -0.001817 -0.000016 -0.000223\n",
      "2024-01-17 -0.000904  0.001770 -0.002116 -0.000940 -0.001669\n",
      "2024-01-18  0.001438  0.003051  0.001569  0.002345  0.002940\n",
      "2024-01-19  0.002009  0.013483  0.000570  0.003260  0.004088\n",
      "\n",
      "[5030 rows x 5 columns]\n"
     ]
    }
   ],
   "source": [
    "log_returns = np.log(adj_close_df).pct_change()\n",
    "print (log_returns)"
   ]
  },
  {
   "cell_type": "markdown",
   "id": "fee9d2e2-454c-4f14-a61c-1ddce4bb4d93",
   "metadata": {},
   "source": [
    "### Drop any missing values"
   ]
  },
  {
   "cell_type": "code",
   "execution_count": 21,
   "id": "87d4ffa6-bc1f-49ec-ac84-702acb4b63f1",
   "metadata": {},
   "outputs": [
    {
     "name": "stdout",
     "output_type": "stream",
     "text": [
      "                 SPY       AMD       GLD       QQQ      GOOG\n",
      "Date                                                        \n",
      "2004-11-19 -0.002536 -0.017412  0.002366 -0.004454  0.007728\n",
      "2004-11-22  0.001082  0.002366  0.000997  0.002722 -0.017860\n",
      "2004-11-23  0.000346  0.006674 -0.001172 -0.000438  0.010291\n",
      "2004-11-24  0.000537  0.002736  0.001758  0.002477  0.029619\n",
      "2004-11-26 -0.000172 -0.000453  0.001395 -0.000869  0.017779\n",
      "...              ...       ...       ...       ...       ...\n",
      "2024-01-12  0.000112 -0.001984  0.001862  0.000085  0.000797\n",
      "2024-01-16 -0.000596  0.016007 -0.001817 -0.000016 -0.000223\n",
      "2024-01-17 -0.000904  0.001770 -0.002116 -0.000940 -0.001669\n",
      "2024-01-18  0.001438  0.003051  0.001569  0.002345  0.002940\n",
      "2024-01-19  0.002009  0.013483  0.000570  0.003260  0.004088\n",
      "\n",
      "[4823 rows x 5 columns]\n"
     ]
    }
   ],
   "source": [
    "log_returns = log_returns.dropna()\n",
    "print (log_returns)"
   ]
  },
  {
   "cell_type": "markdown",
   "id": "c1a1222a-67c8-4d53-acf5-a5644d4b056b",
   "metadata": {},
   "source": [
    "# Section 4: Calculate covariance matrix"
   ]
  },
  {
   "cell_type": "markdown",
   "id": "91d62aa7-b023-4746-8b46-4253cbe4e141",
   "metadata": {},
   "source": [
    "### Calculate the covariance matrix using annualized log results"
   ]
  },
  {
   "cell_type": "code",
   "execution_count": 22,
   "id": "50385a76-1666-4bc9-bd75-d67002a4dfc0",
   "metadata": {},
   "outputs": [
    {
     "name": "stdout",
     "output_type": "stream",
     "text": [
      "           SPY       AMD       GLD       QQQ      GOOG\n",
      "SPY   0.001613  0.006941  0.000081  0.001909  0.002669\n",
      "AMD   0.006941  0.160880 -0.000063  0.009024  0.011513\n",
      "GLD   0.000081 -0.000063  0.001455  0.000065  0.000056\n",
      "QQQ   0.001909  0.009024  0.000065  0.002669  0.003852\n",
      "GOOG  0.002669  0.011513  0.000056  0.003852  0.011925\n"
     ]
    }
   ],
   "source": [
    "cov_matrix = log_returns.cov()*252\n",
    "print (cov_matrix)"
   ]
  },
  {
   "cell_type": "markdown",
   "id": "a0b70f64-13ec-4859-9154-323105d31b87",
   "metadata": {},
   "source": [
    "# Section 5: Define Portfolio Performance Metrics"
   ]
  },
  {
   "cell_type": "markdown",
   "id": "6da92674-0a5e-4807-a1af-463509f3d9cd",
   "metadata": {},
   "source": [
    "### Calculate the portfolio standard deviation"
   ]
  },
  {
   "cell_type": "code",
   "execution_count": 23,
   "id": "4d648758-c5b5-4d6a-a980-840044f714d9",
   "metadata": {},
   "outputs": [],
   "source": [
    "def standard_deviation (weights, cov_matrix):\n",
    "    variance = weights.T @ cov_matrix @ weights\n",
    "    return np.sqrt(variance)"
   ]
  },
  {
   "cell_type": "markdown",
   "id": "a56293ff-bd72-48e7-b69f-7607e5459021",
   "metadata": {},
   "source": [
    "### Calculate the expected return"
   ]
  },
  {
   "cell_type": "code",
   "execution_count": 24,
   "id": "66caa357-7a52-4896-a998-ff949254ec87",
   "metadata": {},
   "outputs": [],
   "source": [
    "# key assumption is that expected returns are based on historical returns; to improve, consider looking at momentum\n",
    "def expected_return(weights, log_returns):\n",
    "    return np.sum(log_returns.mean()*weights)*252"
   ]
  },
  {
   "cell_type": "markdown",
   "id": "429efa08-ed03-4f80-9ed3-30e0f1d03218",
   "metadata": {},
   "source": [
    "finding expected returns through CAPM\n",
    "\n",
    "\n"
   ]
  },
  {
   "cell_type": "markdown",
   "id": "5e86a457-cb53-4d2d-a8da-3f1660a83e68",
   "metadata": {},
   "source": [
    "### Calculate the Sharpe Ratio"
   ]
  },
  {
   "cell_type": "code",
   "execution_count": 25,
   "id": "21c22678-84a0-4eaf-950c-b7c8d1ce2dc3",
   "metadata": {},
   "outputs": [],
   "source": [
    "def sharpe_ratio(weights, log_returns, cov_matrix, risk_free_rate):\n",
    "    return (expected_return(weights, log_returns) - risk_free_rate)/standard_deviation(weights, cov_matrix)"
   ]
  },
  {
   "cell_type": "markdown",
   "id": "43061c97-f38e-46c4-b9c1-76589646e07f",
   "metadata": {},
   "source": [
    "# Section 6: Portfolio Optimization"
   ]
  },
  {
   "cell_type": "markdown",
   "id": "4f3a29ec-a873-4b95-9a5a-47a4acd0f393",
   "metadata": {},
   "source": [
    "### Set the risk free rate"
   ]
  },
  {
   "cell_type": "code",
   "execution_count": 26,
   "id": "da5f13f9-927b-406d-b87b-be5a25a8b59c",
   "metadata": {},
   "outputs": [
    {
     "name": "stdout",
     "output_type": "stream",
     "text": [
      "0.04019999999999999\n"
     ]
    }
   ],
   "source": [
    "from fredapi import Fred\n",
    "\n",
    "fred = Fred(api_key = \"cde66891b7b28b5d3f9629c16e2fc209\")\n",
    "ten_year_treasury_rate = fred.get_series_latest_release(\"GS10\")/100\n",
    "\n",
    "risk_free_rate = ten_year_treasury_rate.iloc[-1]\n",
    "print (risk_free_rate)"
   ]
  },
  {
   "cell_type": "markdown",
   "id": "e8548854-f866-4559-9849-c356887fdbea",
   "metadata": {},
   "source": [
    "### Define the function to output maximum Sharpe Ratio"
   ]
  },
  {
   "cell_type": "code",
   "execution_count": 27,
   "id": "1afa2173-235e-44ef-93f7-d20d6d999d8e",
   "metadata": {},
   "outputs": [],
   "source": [
    "# through this method, we are effectively maximising Sharpe Ratio\n",
    "def neg_sharpe_ratio (weights, log_returns, cov_matrix, risk_free_rate):\n",
    "    return -sharpe_ratio(weights, log_returns, cov_matrix, risk_free_rate)"
   ]
  },
  {
   "cell_type": "markdown",
   "id": "b51b5d6c-8c07-4e70-93ad-32ecdee28844",
   "metadata": {},
   "source": [
    "### Set constraints and bounds"
   ]
  },
  {
   "cell_type": "code",
   "execution_count": 28,
   "id": "ae997e9d-69be-489a-be00-f71fda7ce2e4",
   "metadata": {},
   "outputs": [],
   "source": [
    "constraints = {\"type\": \"eq\", \"fun\": lambda weights: np.sum(weights)-1}\n",
    "bounds = [(0,0.3) for _ in range (len(tickers))]"
   ]
  },
  {
   "cell_type": "markdown",
   "id": "808174e3-05f2-4564-b771-d06e85f8e5dd",
   "metadata": {},
   "source": [
    "### Set the initial weights"
   ]
  },
  {
   "cell_type": "code",
   "execution_count": 29,
   "id": "eeab18d3-b26d-4b24-8cff-ac5e13d656ea",
   "metadata": {},
   "outputs": [
    {
     "name": "stdout",
     "output_type": "stream",
     "text": [
      "[0.2 0.2 0.2 0.2 0.2]\n"
     ]
    }
   ],
   "source": [
    "initial_weights = np.array([1/len(tickers)]*len(tickers))\n",
    "print (initial_weights)"
   ]
  },
  {
   "cell_type": "markdown",
   "id": "adb99a6b-75ab-4697-a508-17a288c437b3",
   "metadata": {},
   "source": [
    "### Optimise weights to maximise Sharpe Ratio"
   ]
  },
  {
   "cell_type": "code",
   "execution_count": 30,
   "id": "2d7c6023-ffea-440b-9254-e8e69f7c29c2",
   "metadata": {},
   "outputs": [],
   "source": [
    "# SLSQP stands for Sequential Least Squares Quadratic Programming - it is used to solve nonlinear optimisation problems with constraints\n",
    "optimized_results = minimize (neg_sharpe_ratio, initial_weights, args=(log_returns, cov_matrix, risk_free_rate), method = 'SLSQP', constraints=constraints, bounds=bounds)"
   ]
  },
  {
   "cell_type": "markdown",
   "id": "b63391ac-4b13-4a17-833d-293e98f73dbd",
   "metadata": {},
   "source": [
    "# Section 7: Analyze the Optimal Portfolio"
   ]
  },
  {
   "cell_type": "markdown",
   "id": "eab05744-d313-4503-8a20-a25f8fd3c11c",
   "metadata": {},
   "source": [
    "### Display analytics of the optimal portfolio"
   ]
  },
  {
   "cell_type": "code",
   "execution_count": 31,
   "id": "9e948b9f-f257-4063-877d-5ed59784925b",
   "metadata": {},
   "outputs": [
    {
     "name": "stdout",
     "output_type": "stream",
     "text": [
      "Optimal Weights:\n",
      "SPY: 0.0000\n",
      "AMD: 0.3000\n",
      "GLD: 0.1000\n",
      "QQQ: 0.3000\n",
      "GOOG: 0.3000\n",
      "Expected Annual Return: 0.0638\n",
      "Expected Volatility: 0.1421\n",
      "Sharpe Ratio: 0.1663\n"
     ]
    }
   ],
   "source": [
    "optimal_weights = optimized_results.x\n",
    "\n",
    "print(\"Optimal Weights:\")\n",
    "for ticker, weight in zip(tickers, optimal_weights):\n",
    "    print(f\"{ticker}: {weight:.4f}\")\n",
    "\n",
    "optimal_portfolio_return = expected_return(optimal_weights, log_returns)\n",
    "optimal_portfolio_volatility = standard_deviation(optimal_weights, cov_matrix)\n",
    "optimal_sharpe_ratio = sharpe_ratio(optimal_weights, log_returns, cov_matrix, risk_free_rate)\n",
    "\n",
    "print(f\"Expected Annual Return: {optimal_portfolio_return:.4f}\")\n",
    "print(f\"Expected Volatility: {optimal_portfolio_volatility:.4f}\")\n",
    "print(f\"Sharpe Ratio: {optimal_sharpe_ratio:.4f}\")"
   ]
  },
  {
   "cell_type": "markdown",
   "id": "2b2a9318-ca62-4127-b65d-fa107ed493fb",
   "metadata": {},
   "source": [
    "### Display the final portfolio in a plot"
   ]
  },
  {
   "cell_type": "code",
   "execution_count": 32,
   "id": "f58c563f-ad8a-45da-8cdf-eae95542e952",
   "metadata": {},
   "outputs": [
    {
     "data": {
      "image/png": "[encoded data removed]",
      "text/plain": [
       "<Figure size 1000x600 with 1 Axes>"
      ]
     },
     "metadata": {},
     "output_type": "display_data"
    }
   ],
   "source": [
    "import matplotlib.pyplot as plt\n",
    "\n",
    "plt.figure(figsize=(10, 6))\n",
    "plt.bar(tickers, optimal_weights)\n",
    "\n",
    "plt.xlabel('Assets')\n",
    "plt.ylabel('Optimal Weights')\n",
    "plt.title('Optimal Portfolio Weights')\n",
    "\n",
    "plt.show()"
   ]
  }
 ],
 "metadata": {
  "kernelspec": {
   "display_name": "Python 3 (ipykernel)",
   "language": "python",
   "name": "python3"
  },
  "language_info": {
   "codemirror_mode": {
    "name": "ipython",
    "version": 3
   },
   "file_extension": ".py",
   "mimetype": "text/x-python",
   "name": "python",
   "nbconvert_exporter": "python",
   "pygments_lexer": "ipython3",
   "version": "3.12.1"
  }
 },
 "nbformat": 4,
 "nbformat_minor": 5
}
