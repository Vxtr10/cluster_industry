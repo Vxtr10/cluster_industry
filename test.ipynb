{
 "cells": [
  {
   "cell_type": "code",
   "execution_count": 11,
   "metadata": {},
   "outputs": [
    {
     "name": "stdout",
     "output_type": "stream",
     "text": [
      "['AAPL', 'MSFT', 'AMZN', 'GOOGL', 'GOOG', 'TSLA', 'NVDA', 'JPM', 'V', 'UNH', 'HD', 'PG', 'DIS', 'MA', 'PYPL', 'BAC', 'ADBE', 'NFLX', 'CMCSA', 'XOM', 'KO', 'CSCO', 'VZ', 'INTC', 'PEP', 'PFE', 'WFC', 'ABT']\n",
      "[*********************100%***********************]  28 of 28 completed\n"
     ]
    }
   ],
   "source": [
    "import pandas as pd\n",
    "import yfinance as yf\n",
    "\n",
    "# Define the tickers for the 30 stocks\n",
    "tickers = [\n",
    "    \"AAPL\",  # Apple\n",
    "    \"MSFT\",  # Microsoft\n",
    "    \"AMZN\",  # Amazon\n",
    "    \"GOOGL\", # Alphabet (Google) Class A\n",
    "    \"GOOG\",  # Alphabet (Google) Class C\n",
    "    \"TSLA\",  # Tesla\n",
    "    \"NVDA\",  # Nvidia\n",
    "    \"JPM\",   # JPMorgan Chase\n",
    "    \"V\",     # Visa\n",
    "    \"UNH\",   # UnitedHealth\n",
    "    \"HD\",    # Home Depot\n",
    "    \"PG\",    # Procter & Gamble\n",
    "    \"DIS\",   # Disney\n",
    "    \"MA\",    # Mastercard\n",
    "    \"PYPL\",  # PayPal\n",
    "    \"BAC\",   # Bank of America\n",
    "    \"ADBE\",  # Adobe\n",
    "    \"NFLX\",  # Netflix\n",
    "    \"CMCSA\", # Comcast\n",
    "    \"XOM\",   # Exxon Mobil\n",
    "    \"KO\",    # Coca-Cola\n",
    "    \"CSCO\",  # Cisco\n",
    "    \"VZ\",    # Verizon\n",
    "    \"INTC\",  # Intel\n",
    "    \"PEP\",   # PepsiCo\n",
    "    \"PFE\",   # Pfizer\n",
    "    \"WFC\",   # Wells Fargo\n",
    "    \"ABT\"    # Abbott Laboratories\n",
    "]\n",
    "\n",
    "print(tickers)\n",
    "\n",
    "\n",
    "# Download stock price data\n",
    "data = yf.download(tickers, start='2019-01-01', end='2024-01-01')['Adj Close']\n"
   ]
  },
  {
   "cell_type": "code",
   "execution_count": 12,
   "metadata": {},
   "outputs": [],
   "source": [
    "correlation_mat=data.corr()"
   ]
  },
  {
   "cell_type": "code",
   "execution_count": 13,
   "metadata": {},
   "outputs": [
    {
     "name": "stdout",
     "output_type": "stream",
     "text": [
      "Cluster 0: AAPL, ABT, BAC, CSCO, GOOG, GOOGL, HD, JPM, MA, MSFT, NVDA, PG, TSLA, V\n",
      "Cluster 3: ADBE, AMZN, CMCSA, NFLX\n",
      "Cluster 1: DIS, INTC, PYPL, VZ\n",
      "Cluster 2: KO, PEP, PFE, UNH, WFC, XOM\n"
     ]
    },
    {
     "name": "stderr",
     "output_type": "stream",
     "text": [
      "/Users/victor/miniforge3/envs/NLP_env/lib/python3.8/site-packages/sklearn/cluster/_kmeans.py:870: FutureWarning: The default value of `n_init` will change from 10 to 'auto' in 1.4. Set the value of `n_init` explicitly to suppress the warning\n",
      "  warnings.warn(\n"
     ]
    }
   ],
   "source": [
    "# Utility function to print the name of companies with their assigned cluster\n",
    "def print_clusters(df_combined,cluster_labels):\n",
    "  cluster_dict = {}\n",
    "  for i, label in enumerate(cluster_labels):\n",
    "      if label not in cluster_dict:\n",
    "          cluster_dict[label] = []\n",
    "      cluster_dict[label].append(df_combined.columns[i])\n",
    "\n",
    "  # Print out the companies in each cluster\n",
    "  for cluster, companies in cluster_dict.items():\n",
    "      print(f\"Cluster {cluster}: {', '.join(companies)}\")\n",
    "\n",
    "from sklearn.cluster import KMeans\n",
    "\n",
    "# Perform k-means clustering with four clusters\n",
    "clustering = KMeans(n_clusters=4, random_state=0).fit(correlation_mat)\n",
    "\n",
    "# Print the cluster labels\n",
    "cluster_labels=clustering.labels_\n",
    "print_clusters(data,cluster_labels)"
   ]
  },
  {
   "cell_type": "code",
   "execution_count": 14,
   "metadata": {},
   "outputs": [
    {
     "data": {
      "image/png": "[encoded data removed]",
      "text/plain": [
       "<Figure size 432x288 with 1 Axes>"
      ]
     },
     "metadata": {
      "needs_background": "light"
     },
     "output_type": "display_data"
    }
   ],
   "source": [
    "from sklearn.decomposition import PCA\n",
    "\n",
    "# Initialize PCA and reduce to two dimensions for visualization\n",
    "pca = PCA(n_components=2)\n",
    "reduced_data = pca.fit_transform(correlation_mat)\n",
    "\n",
    "import matplotlib.pyplot as plt\n",
    "\n",
    "# Extract the x and y coordinates\n",
    "x_coords = reduced_data[:, 0]\n",
    "y_coords = reduced_data[:, 1]\n",
    "\n",
    "# Define colors (you can choose different color schemes)\n",
    "colors = ['b', 'g', 'r', 'c', 'm', 'y', 'k']\n",
    "\n",
    "# Plot each point and color it according to its cluster label\n",
    "for i in range(len(x_coords)):\n",
    "    plt.scatter(x_coords[i], y_coords[i], color=colors[cluster_labels[i]])\n",
    "\n",
    "# Optionally, add labels for each point (stock ticker)\n",
    "for i, ticker in enumerate(data.columns):\n",
    "    plt.text(x_coords[i], y_coords[i], ticker, fontsize=9)\n",
    "\n",
    "# Set chart title and labels\n",
    "plt.title('Stock Clusters based on Correlation Matrix')\n",
    "plt.xlabel('PCA Feature 1')\n",
    "plt.ylabel('PCA Feature 2')\n",
    "\n",
    "# Show the plot\n",
    "plt.show()\n"
   ]
  },
  {
   "cell_type": "code",
   "execution_count": null,
   "metadata": {},
   "outputs": [],
   "source": []
  }
 ],
 "metadata": {
  "kernelspec": {
   "display_name": "Python 3.8.13",
   "language": "python",
   "name": "python3"
  },
  "language_info": {
   "codemirror_mode": {
    "name": "ipython",
    "version": 3
   },
   "file_extension": ".py",
   "mimetype": "text/x-python",
   "name": "python",
   "nbconvert_exporter": "python",
   "pygments_lexer": "ipython3",
   "version": "3.8.13"
  },
  "orig_nbformat": 4,
  "vscode": {
   "interpreter": {
    "hash": "6271ad5a9cfee5fbc27e23facc018ff52eb81071ca31a423a1af489ce9841234"
   }
  }
 },
 "nbformat": 4,
 "nbformat_minor": 2
}
